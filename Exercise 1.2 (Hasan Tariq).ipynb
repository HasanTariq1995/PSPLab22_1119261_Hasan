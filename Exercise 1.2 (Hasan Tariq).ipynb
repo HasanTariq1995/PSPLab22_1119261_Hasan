{
 "cells": [
  {
   "cell_type": "code",
   "execution_count": 26,
   "metadata": {},
   "outputs": [
    {
     "data": {
      "text/plain": [
       "0.004217769984244399"
      ]
     },
     "execution_count": 26,
     "metadata": {},
     "output_type": "execute_result"
    }
   ],
   "source": [
    "import math\n",
    "\n",
    "p=10**3\n",
    "Pf = 0.8\n",
    "L= 10**12\n",
    "Resistivity = 2.86**-12\n",
    "ka = 240\n",
    "kv = 2800\n",
    "alpha = 10\n",
    "hr = 3.0000\n",
    "Jopt = 1\n",
    "\n",
    "#Vopt = Root ((2.Ka/kv)(Sr/Root 3.Jopt))\n",
    "Vopt = ((ka/kv)*2)*(12500/1.73)\n",
    "math.sqrt(Vopt)\n",
    "\n",
    "#R=(Resistivity*Length)/Area ----->A\n",
    "#P=(Current)^2*(Resistance)------->B\n",
    "#P=(Voltage)(Current)(Pf)--------->C\n",
    "\n",
    "#Using Eq C\n",
    "Current = (p)/((35.17)*(0.8))\n",
    "\n",
    "#Using Eq B\n",
    "Resistance = p/(Current)**2 \n",
    "\n",
    "#Using Eq A\n",
    "Area = (Resistivity*p)/(Resistance)\n",
    "\n",
    "#Voltage is 35.17Kv\n",
    "#Area is 400mm2\n"
   ]
  }
 ],
 "metadata": {
  "kernelspec": {
   "display_name": "Python 3.9.13 ('base')",
   "language": "python",
   "name": "python3"
  },
  "language_info": {
   "codemirror_mode": {
    "name": "ipython",
    "version": 3
   },
   "file_extension": ".py",
   "mimetype": "text/x-python",
   "name": "python",
   "nbconvert_exporter": "python",
   "pygments_lexer": "ipython3",
   "version": "3.9.13"
  },
  "orig_nbformat": 4,
  "vscode": {
   "interpreter": {
    "hash": "f08154012ddadd8e950e6e9e035c7a7b32c136e7647e9b7c77e02eb723a8bedb"
   }
  }
 },
 "nbformat": 4,
 "nbformat_minor": 2
}
